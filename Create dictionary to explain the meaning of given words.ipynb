{
 "cells": [
  {
   "cell_type": "code",
   "execution_count": 5,
   "id": "7b7b673b",
   "metadata": {},
   "outputs": [],
   "source": [
    "from difflib import get_close_matches\n",
    "data = {'Problem' : 'dilemma', 'Look' : 'glance', 'Know' : 'perceive', 'Make' : 'form', 'Number' : 'statistic'}"
   ]
  },
  {
   "cell_type": "code",
   "execution_count": 11,
   "id": "6476bf8a",
   "metadata": {},
   "outputs": [],
   "source": [
    "def definition(name):\n",
    "    name = name.lower()\n",
    "\n",
    "    if name in data:\n",
    "        return data[name]\n",
    "\n",
    "    elif len(get_close_matches(name, data.keys())) > 0:      \n",
    "        check = input(\"Did you mean %s instead? Enter Y if yes, otherwise N to exit: \" %\n",
    "                      get_close_matches(name, data.keys())[0])\n",
    "        if check == \"Y\":\n",
    "            return data[get_close_matches(name, data.keys())[0]]\n",
    "        elif check == \"N\":\n",
    "            return \"The word doesn't exist. Please double check it.\"\n",
    "        else:\n",
    "            return \"We didn't understand your entry.\"\n",
    "    else:\n",
    "        return \"Sorry, this word is not an English word. Please double check your spelling.\""
   ]
  },
  {
   "cell_type": "code",
   "execution_count": 12,
   "id": "9c139114",
   "metadata": {},
   "outputs": [
    {
     "name": "stdout",
     "output_type": "stream",
     "text": [
      "Enter a name: wahid\n"
     ]
    }
   ],
   "source": [
    "word = input('Enter a name: ')"
   ]
  },
  {
   "cell_type": "code",
   "execution_count": 13,
   "id": "6d789517",
   "metadata": {},
   "outputs": [
    {
     "name": "stdout",
     "output_type": "stream",
     "text": [
      "Sorry, this word is not an English word. Please double check your spelling.\n"
     ]
    }
   ],
   "source": [
    "output = definition(word)\n",
    "if type(output) == list:  \n",
    "    for item in output:\n",
    "        print(item)\n",
    "else:\n",
    "    print(output)"
   ]
  },
  {
   "cell_type": "code",
   "execution_count": null,
   "id": "604d91a2",
   "metadata": {},
   "outputs": [],
   "source": []
  }
 ],
 "metadata": {
  "kernelspec": {
   "display_name": "Python 3 (ipykernel)",
   "language": "python",
   "name": "python3"
  },
  "language_info": {
   "codemirror_mode": {
    "name": "ipython",
    "version": 3
   },
   "file_extension": ".py",
   "mimetype": "text/x-python",
   "name": "python",
   "nbconvert_exporter": "python",
   "pygments_lexer": "ipython3",
   "version": "3.9.12"
  }
 },
 "nbformat": 4,
 "nbformat_minor": 5
}
